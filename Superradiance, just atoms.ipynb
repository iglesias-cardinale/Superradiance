{
 "cells": [
  {
   "cell_type": "code",
   "execution_count": 1,
   "metadata": {},
   "outputs": [],
   "source": [
    "import numpy as np\n",
    "import matplotlib.pyplot as plt\n",
    "import qutip as qt\n",
    "import qiskit as qk"
   ]
  },
  {
   "cell_type": "markdown",
   "metadata": {},
   "source": [
    "# The Superradiance Hamiltonian\n",
    "\n",
    "First, let's write the Hamiltonian for superradiance.\n",
    "\n",
    "$$ \\text{H} = \\text{H}_{at}+\\text{H}_{rad} + \\text{V} = \\hbar\\omega_0\\sum_iD_i^3 + \\sum_{k\\epsilon}\\hbar\\omega_k(a_{k\\epsilon}^\\dagger a_{k\\epsilon}+\\frac{1}{2}) -\\sum_i(\\vec{E^+}(\\vec{r}_i)+\\vec{E^-}(\\vec{r}_i))\\cdot\\vec{\\mathscr{D}}_{ai}$$\n",
    "\n",
    "Here, $ D_i^3$ in $\\text{H}_{at}$ is the diagonal operator of the $\\text{i}^{th}$ atom/two-level system. It takes an input in the excited (ground) state and produces an output in the excited (minus ground) state. Its appearance in the Hamiltonian accounts for the energy of the atoms themselves. It can be expanded in terms of the basis states $|g\\rangle$ (ground) and $|e\\rangle$ (excited) of the $\\text{i}^{th}$ atom, $ D_i^3 = \\frac{1}{2}\\left(|e\\rangle_i {}_i\\langle e|-|g\\rangle_i {}_i\\langle g|\\right)$. The sum over $i$ accounts for the energy contribution from all atoms in the system. \n",
    "\n",
    "The $\\text{H}_{rad} $ term is the radiation/field part of the Hamiltonian and accounts for the creation ($a_{k\\epsilon}^\\dagger$) and annihilation ($a_{k\\epsilon}$) of photons with wavevector $\\vec{k}$ and polarization vector $\\vec{\\epsilon}$. The product ($a_{k\\epsilon}^\\dagger a_{k\\epsilon}$) is the number operator for photons in mode $k\\epsilon$ and counts the number of photons in that mode. The number of photons in that mode is multiplied by the energy of the mode ($\\hbar\\omega_k$) and the product is added to the vacuum (no photon) energy, $\\frac{\\hbar\\omega_k}{2}$. To find the total energy of the field, we sum over all modes of the field.\n",
    "\n",
    "The interaction part of the Hamiltonian, V, includes the sum of the positive and negative frequency components of the Electric Field operator, $\\vec{E^+}$ + $\\vec{E^-}$, dotted with the the electric dipole operator of the i$^{th}$ atom, $\\vec{\\mathscr{D}}_{ai}$.\n",
    "\n",
    "$\\vec{\\mathscr{D}}_{ai}$ is defined by \n",
    "\n",
    "$$\\vec{\\mathscr{D}}_{ai} = (D_i^++D_i^-)d\\vec{\\epsilon}_a = (|e\\rangle_i{}_i\\langle g|+|g\\rangle_i{}_i\\langle e|)d\\vec{\\epsilon}_a$$,\n",
    "\n",
    "where $D_i^{+(-)}$ is the raising (lowering) off-diagonal operators which raises (lowers) the energy of the i$^{th}$ atom from g (e) to e (g), d is the dipole matrix element of the transition, and $\\epsilon_a$ is the normalized vector defining the polarization of the $|e\\rangle \\rightarrow |g\\rangle$ transition.\n",
    "\n",
    "The electric field operators are defined by\n",
    "\n",
    "$$ \\vec{E^+}(\\vec{r}) = -i\\sum_{k,\\epsilon}\\vec{\\mathcal{E}}_{k\\epsilon}a_{k\\epsilon}e^{i\\vec{k}\\cdot\\vec{r}}$$ \n",
    "and \n",
    "$$ \\vec{E^-}(\\vec{r}) = i\\sum_{k,\\epsilon}\\vec{\\mathcal{E}}_{k\\epsilon}a_{k\\epsilon}^\\dagger e^{-i\\vec{k}\\cdot\\vec{r}}$$\n",
    "where \n",
    "$$\\vec{\\mathcal{E}}_{k\\epsilon} = \\sqrt{\\frac{\\hbar ck}{2\\epsilon_0\\mathscr{V}}}\\vec{\\epsilon}$$.\n",
    "\n",
    "These are the positive and negative frequency parts of the overall electric field, $\\vec{E}$. $\\vec{\\mathcal{E}}$ is referred to as the \"electric field per photon\" and $\\bf{\\text{I THINK}}$ has to do with the Rabi Freqiency. $\\mathscr{V}$ is an arbitrary quantization volume much larger than the atomic sample."
   ]
  },
  {
   "cell_type": "code",
   "execution_count": 2,
   "metadata": {},
   "outputs": [],
   "source": [
    "#Define parameters\n",
    "omega_0 = 1.0  #Angular frequency of photon emitted in |e> -> |g> transition\n",
    "omega_k = 1.0 #Angular frequency of radiation field\n",
    "hbar = 1.0\n",
    "gamma = 0.1  #Decay rate for spontaneous emission\n",
    "\n",
    "#Number of atoms in the superradiant system\n",
    "N = 4"
   ]
  },
  {
   "cell_type": "markdown",
   "metadata": {},
   "source": [
    "## Defining states and operators\n",
    "\n",
    "In the next cell, we define the excited and ground states as well as the single atom off diagonal operators ($D_i^+$ and $D_i^-$) and the diagonal operator ($D_i^3$)"
   ]
  },
  {
   "cell_type": "code",
   "execution_count": 3,
   "metadata": {},
   "outputs": [],
   "source": [
    "#States and operators\n",
    "g_ket = qt.basis(2, 0)  #|g⟩ \n",
    "e_ket = qt.basis(2, 1)  #|e⟩ \n",
    "g_bra = g_ket.dag()      #⟨g|\n",
    "e_bra = e_ket.dag()      #⟨e|\n",
    "\n",
    "#Creation and Annihilation operators\n",
    "a = qt.destroy(2) #Annihilation operator of radiation field mode\n",
    "adag = a.dag() #Creation operator of radiation field mode\n",
    "\n",
    "\n",
    "Dplus_i = e_ket * g_bra    #Raising operator\n",
    "Dminus_i = g_ket * e_bra   #Lowering operator\n",
    "D3_i = 0.5 * (e_ket * e_bra - g_ket * g_bra)  #Diagonal operator"
   ]
  },
  {
   "cell_type": "markdown",
   "metadata": {},
   "source": [
    "We continue by defining the collective operators that act, as tensors, on all atoms in the system, $D^+$ and $D^-$ and ($D^3$).\n",
    "\n",
    "Here we must create a matrix/tensor that operates on all atoms. In the analytical case we construct a tensor by doing tensor products between all of the operators of individual atoms. QuTiP is able to do this by using the **qt.tensor** function, which constructs a tensor product of the inputted quantum operators.\n",
    "\n",
    "To best utilize this function, we must creat N tensors that act as the identity on all but one atom, then add those tensors together. Explicitly, we would create the first tensor by doing a tensor product between the individual operator on the first atom and the identity operator on all other atoms. We would add this to the the tensor product between the individual operator on the second atom and the identity operator on all other atoms, and so on until all the individual atoms have been accounted for. \n",
    "\n",
    "To do this, we utilize the QuTiP function **qt.qeye(n)**, which gives an identity operator of size/dimension n. Here we use n=2 since each atom is a 2-state atom. \n",
    "\n",
    "Using qt.tensor, we do a tensor product between a list of i identity operators, qt.eye(2) (accounting for all atoms UP TO the ith atom), the individual operator on the ith atom, and a list of of N-i-1 identity operators (accounting for all atoms AFTER the ith atom up to the final Nth atom).\n",
    " "
   ]
  },
  {
   "cell_type": "code",
   "execution_count": 28,
   "metadata": {},
   "outputs": [],
   "source": [
    "#Define collective operators for N atoms\n",
    "Dplus = sum([qt.tensor([qt.qeye(2)]*i + [Dplus_i] + [qt.qeye(2)]*(N-i-1)) for i in range(N)])\n",
    "Dminus = Dplus.dag()\n",
    "\n",
    "D3 = sum([qt.tensor([qt.qeye(2)]*i + [D3_i] + [qt.qeye(2)]*(N-i-1)) for i in range(N)])"
   ]
  },
  {
   "cell_type": "markdown",
   "metadata": {},
   "source": [
    "## Defining the Hamiltonian"
   ]
  },
  {
   "cell_type": "code",
   "execution_count": 29,
   "metadata": {},
   "outputs": [],
   "source": [
    "#Atomic Hamiltonian (summed for all atoms)\n",
    "H_atom = hbar * omega_0 * D3\n"
   ]
  },
  {
   "cell_type": "markdown",
   "metadata": {},
   "source": [
    "## Setting up the Dynamics\n",
    "\n",
    "For superradiance, we are obviously interested in the photon emission rate over time. We solve for this by using the"
   ]
  },
  {
   "cell_type": "code",
   "execution_count": 30,
   "metadata": {},
   "outputs": [],
   "source": [
    "#Time for simulation\n",
    "t = np.linspace(0,50,500)\n",
    "\n",
    "#Initial state (all excited)\n",
    "psi_0 = qt.tensor([e_ket]*N)"
   ]
  },
  {
   "cell_type": "markdown",
   "metadata": {},
   "source": [
    "### Solving the Master Equation\n",
    "\n",
    "QuTiP has a built in function to solve for the time evolution of the systems density matrix, $\\rho(t)$ by solving the system's master equation. This built in function is **qt.mesolve(H, psi0, tlist, c_ops, [operators])**. This function evolves an initial state, **psi_0**, using a given Hamiltonian, **H** and an optional set of collapse operators, **c_ops**. The output is state vector at arbitrary points in time, **tlist**, or the expectation values of the supplied **operators** which must be placed in a list.\n",
    "\n",
    "The master equation of an open quantum system is given by\n",
    "\n",
    "$$ \\frac{d\\rho}{dt} = -\\frac{i}{\\hbar}[\\text{H},\\rho]+\\sum_i\\mathcal{L}(c_i)\\rho$$\n",
    "\n",
    "Here, the first term is the unitary time evolution of the system coming from the Hamiltonian. The second term describes non-unitary time evolution processes like decoherence, emission, or absorption. $\\mathcal{L}(c_i)$ is the Linblad superoperator of the i$^{th}$ collapse operator, $c_i$, which represents the dissipation in our present system. In our case, $\\mathcal{L}(c_i)$ is the collapse operator which acts on all atoms in the ensemble and causes them each to collapse from the excited to the ground state. \n",
    "\n",
    "The output of qt.mesolve is generally stored in a variable. Here we store it in a variable simply calles **result**. There are multiple outputs that are stored in **result**, namely **result.states** which is gives the time evolved quantum states, $\\psi(t)$, and **result.expect** which gives the expectation values of the input operators."
   ]
  },
  {
   "cell_type": "code",
   "execution_count": 31,
   "metadata": {},
   "outputs": [],
   "source": [
    "#Define observables that we want to measure\n",
    "\n",
    "#Rate of photon emission for a single atom is the expectation value of \n",
    "W = gamma*Dplus*Dminus\n",
    "\n",
    "\n",
    "'''\n",
    "UNDERSTAND THIS OPERATOR!!!!!!!!!!!!!!!!!!!!!!!!\n",
    "\n",
    "'''\n",
    "# Collapse operators (decay channels)\n",
    "c_ops = [np.sqrt(gamma) * Dminus]  # Collective decay operator\n",
    "\n",
    "#Solve the master equation\n",
    "result = qt.mesolve(H_atom, psi_0, t, c_ops, [W])"
   ]
  },
  {
   "cell_type": "markdown",
   "metadata": {},
   "source": [
    "### A note on the Hamiltonian, collapse operators, and the dynamics\n",
    "\n",
    "As the code stands, the Hamiltonian actually has no effect on the photon emission rate. The output is entirely dependent on the collaps operator, $\\sqrt{\\Gamma}D^-$. This will obviously change when we implement the field, interaction and driving parts of the Hamiltonian later."
   ]
  },
  {
   "cell_type": "code",
   "execution_count": 32,
   "metadata": {},
   "outputs": [],
   "source": [
    "#Extract photon emission rate (expectation value of Dplus_N*Dminus_N)\n",
    "photon_emission_rate = result.expect[0]"
   ]
  },
  {
   "cell_type": "code",
   "execution_count": 33,
   "metadata": {},
   "outputs": [
    {
     "data": {
      "image/png": "[encoded data removed]",
      "text/plain": [
       "<Figure size 640x480 with 1 Axes>"
      ]
     },
     "metadata": {},
     "output_type": "display_data"
    }
   ],
   "source": [
    "#Plot the photon emission rate\n",
    "plt.plot(t, photon_emission_rate)\n",
    "plt.xlabel('Time')\n",
    "plt.ylabel('Photon Emission Rate')\n",
    "plt.title(f'Superradiance for {N} Atoms')\n",
    "plt.show()"
   ]
  },
  {
   "cell_type": "markdown",
   "metadata": {},
   "source": [
    "We check that our solution makes sense by integrating the photon emission rate over all time and checking that the integral is equal to the number of atoms. This should be the case since each atom in the ensemble will release a single photon when it relaxes, and every atom should relax after a long time. "
   ]
  },
  {
   "cell_type": "code",
   "execution_count": 34,
   "metadata": {},
   "outputs": [
    {
     "name": "stdout",
     "output_type": "stream",
     "text": [
      "0.9999830296640896\n"
     ]
    }
   ],
   "source": [
    "from scipy.integrate import trapezoid\n",
    "\n",
    "print(trapezoid(photon_emission_rate,t)/N) #Ratio of Integral of PER wrt t to N"
   ]
  },
  {
   "cell_type": "code",
   "execution_count": null,
   "metadata": {},
   "outputs": [],
   "source": []
  }
 ],
 "metadata": {
  "kernelspec": {
   "display_name": "Python (qutip-env)",
   "language": "python",
   "name": "qutip-env"
  },
  "language_info": {
   "codemirror_mode": {
    "name": "ipython",
    "version": 3
   },
   "file_extension": ".py",
   "mimetype": "text/x-python",
   "name": "python",
   "nbconvert_exporter": "python",
   "pygments_lexer": "ipython3",
   "version": "3.9.19"
  }
 },
 "nbformat": 4,
 "nbformat_minor": 4
}
